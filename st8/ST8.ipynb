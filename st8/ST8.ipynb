{
 "cells": [
  {
   "cell_type": "markdown",
   "metadata": {},
   "source": [
    "### CCO50- Digital Speech Processing  \n",
    "# Short Test 8\n",
    "\n",
    "**Description:** Find the difference equation matching the\n",
    "IIR filter $H[z] = \\frac{1 - 2z^{-1}}{1-0.5z^{-1}}$. Then, plot its poles and zeros in the z-plane"
   ]
  },
  {
   "cell_type": "markdown",
   "metadata": {},
   "source": [
    "$$\n",
    "H[z] = \\frac{Y[z]}{X[z]} =  \\frac{1 - 2z^{-1}}{1-0.5z^{-1}}\n",
    "\\\\\n",
    "Y[z] - 0.5 Y[z] z^{-1} = X[z] - 2 X[z] z^{-1}\n",
    "\\\\\n",
    "\\text{from frequency domain to time domain:}\n",
    "\\\\\n",
    "y[n] - 0.5 y[n-1] = x[n] -2x[n-1]\n",
    "\\\\\n",
    "y[n] = x[n] - 2x[n-1] + 0.5 y[n-1]\n",
    "$$\n",
    "\n",
    "To find the poles, it is necessary to find the values that make the denominator of H[z] equal to zero. \n",
    "\n",
    "To find the zeros, it is necessary to find the values that make the numerator of H[z] equal to zero.\n",
    "\n",
    "$$\n",
    "\\text{poles}\n",
    "\\\\\n",
    "1 - 0.5 z^{-1} = 0\n",
    "\\\\\n",
    "z^{-1} = 2\n",
    "\\\\\n",
    "\\frac{1}{z} = 2\n",
    "\\\\\n",
    "z = 0.5\n",
    "$$\n",
    "\n",
    "$$\n",
    "\\text{zeros}\n",
    "\\\\\n",
    "1 - 2 z^{-1} = 0\n",
    "\\\\\n",
    "\\frac{1}{z} = \\frac{-1}{-2}\n",
    "\\\\\n",
    "z = 2\n",
    "$$"
   ]
  },
  {
   "cell_type": "markdown",
   "metadata": {},
   "source": [
    "\n",
    "**Author:** Matheus Sinto Novaes <br>\n",
    "**E-mail:** matheus.sinto@unesp.br\n",
    "\n",
    "**Course:** Digital Speech Processing <br>\n",
    "**Professor:** Dr. Eng. Rodrigo Capobianco Guido <br>\n",
    "**Date:** May 28 2025\n"
   ]
  }
 ],
 "metadata": {
  "kernelspec": {
   "display_name": "Python 3",
   "language": "python",
   "name": "python3"
  },
  "language_info": {
   "codemirror_mode": {
    "name": "ipython",
    "version": 3
   },
   "file_extension": ".py",
   "mimetype": "text/x-python",
   "name": "python",
   "nbconvert_exporter": "python",
   "pygments_lexer": "ipython3",
   "version": "3.13.0"
  }
 },
 "nbformat": 4,
 "nbformat_minor": 2
}
