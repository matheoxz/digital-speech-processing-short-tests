{
 "cells": [
  {
   "cell_type": "markdown",
   "metadata": {},
   "source": [
    "### CCO50- Digital Speech Processing  \n",
    "# Short Test 1\n",
    "\n",
    "**Description:** Considering that the M-sample long signal s[·] corresponds to a speech raw data, write either an algorithm or a code in any programming language to reverse it in time"
   ]
  },
  {
   "cell_type": "code",
   "execution_count": null,
   "metadata": {},
   "outputs": [],
   "source": [
    "# defining a function to reverse a signal\n",
    "def reverse_signal(signal):\n",
    "    return signal[::-1]"
   ]
  },
  {
   "cell_type": "markdown",
   "metadata": {},
   "source": [
    "#### Testing the function\n",
    "\n",
    "Below I generate sine waves to test the reversing signal function"
   ]
  },
  {
   "cell_type": "code",
   "execution_count": null,
   "metadata": {},
   "outputs": [],
   "source": [
    "import numpy as np\n",
    "import pyaudio"
   ]
  },
  {
   "cell_type": "code",
   "execution_count": null,
   "metadata": {},
   "outputs": [],
   "source": [
    "# generating a sine wave with a frequency of 440Hz (note A) and a sine wave with frequency of 256.63 Hz (note C) and sample rate of 44100Hz\n",
    "sample_rate = 44100\n",
    "s_A = (np.sin(2 * np.pi * np.arange(sample_rate) * 440 / sample_rate)).astype(np.float32)\n",
    "s_C = (np.sin(2 * np.pi * np.arange(sample_rate) * 256.63 / sample_rate)).astype(np.float32)\n",
    "# concatenating the two sine waves so the signal plays A then C\n",
    "s = np.concatenate((s_A, s_C))"
   ]
  },
  {
   "cell_type": "code",
   "execution_count": null,
   "metadata": {},
   "outputs": [],
   "source": [
    "# defining a function to play the signal\n",
    "def play_signal(signal):\n",
    "    p = pyaudio.PyAudio()\n",
    "\n",
    "    stream = p.open(format=pyaudio.paFloat32,\n",
    "                    channels=1,\n",
    "                    rate=sample_rate,\n",
    "                    output=True)\n",
    "\n",
    "    stream.write(signal.tobytes())\n",
    "\n",
    "    stream.stop_stream()\n",
    "    stream.close()\n",
    "\n",
    "    p.terminate()"
   ]
  },
  {
   "cell_type": "code",
   "execution_count": null,
   "metadata": {},
   "outputs": [],
   "source": [
    "# reversing the signal\n",
    "s_reversed = reverse_signal(s)"
   ]
  },
  {
   "cell_type": "code",
   "execution_count": null,
   "metadata": {},
   "outputs": [],
   "source": [
    "# playing the original signal and the reversed signal\n",
    "play_signal(s) # A > C\n",
    "play_signal(s_reversed) # C > A"
   ]
  },
  {
   "cell_type": "markdown",
   "metadata": {},
   "source": [
    "\n",
    "**Author:** Matheus Sinto Novaes <br>\n",
    "**E-mail:** matheus.sinto@unesp.br\n",
    "\n",
    "**Course:** Digital Speech Processing <br>\n",
    "**Professor:** Dr. Eng. Rodrigo Capobianco Guido <br>\n",
    "**Date:** March 17 2025\n"
   ]
  }
 ],
 "metadata": {
  "kernelspec": {
   "display_name": "Python 3",
   "language": "python",
   "name": "python3"
  },
  "language_info": {
   "codemirror_mode": {
    "name": "ipython",
    "version": 3
   },
   "file_extension": ".py",
   "mimetype": "text/x-python",
   "name": "python",
   "nbconvert_exporter": "python",
   "pygments_lexer": "ipython3",
   "version": "3.13.0"
  }
 },
 "nbformat": 4,
 "nbformat_minor": 2
}
